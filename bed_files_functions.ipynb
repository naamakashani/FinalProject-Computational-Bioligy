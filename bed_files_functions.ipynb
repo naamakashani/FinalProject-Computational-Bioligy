{
 "cells": [
  {
   "cell_type": "code",
   "execution_count": 2,
   "metadata": {},
   "outputs": [],
   "source": [
    "import pandas as pd\n",
    "import pyensembl"
   ]
  },
  {
   "cell_type": "code",
   "execution_count": 6,
   "metadata": {},
   "outputs": [],
   "source": [
    "def find_rows_with_gene_id(bed_file, gene_id):\n",
    "    matching_rows = []\n",
    "\n",
    "    with open(bed_file, 'r') as file:\n",
    "        for line in file:\n",
    "            columns = line.split('\\t')\n",
    "            if len(columns) >= 4 and columns[3] == gene_id:\n",
    "                matching_rows.append(columns)\n",
    "\n",
    "    if len(matching_rows) > 1:\n",
    "        print(\"found more than one line with this gene id\")\n",
    "    if len(matching_rows) == 0:\n",
    "        print(\"gene id not found in readthrough.bed\")\n",
    "    return matching_rows[0]"
   ]
  },
  {
   "cell_type": "code",
   "execution_count": 14,
   "metadata": {},
   "outputs": [],
   "source": [
    "def xlsx_to_bed(xlsx_file, readthrough_or_readin_bed_file, outputfile):  \n",
    "    data = pyensembl.Genome(reference_name='GRCh38', annotation_name='my_genome_features',\n",
    "                                gtf_path_or_url='/data01/private/resources/gencode.v34.GRCh38.annotation.gtf')\n",
    "    data.index()  # parse GTF and construct database of genomic features\n",
    "    df = pd.read_excel(xlsx_file)\n",
    "    #print(df)\n",
    "    # Open the file for writing\n",
    "    with open(outputfile, 'w') as bed_file:\n",
    "        # Iterate over each row of the dataframe\n",
    "        for index, row in df.iterrows():\n",
    "            ens_id = df.iloc[index, 0]\n",
    "            name = data.gene_name_of_gene_id(ens_id)\n",
    "            bed_info = find_rows_with_gene_id(readthrough_or_readin_bed_file, ens_id)\n",
    "            # Write the chromosome name, start position, end position, gene name,\n",
    "            # score and strand information to the BED file\n",
    "            bed_file.write('\\t'.join([\n",
    "                str(bed_info[0]),\n",
    "                str(bed_info[1]),\n",
    "                str(bed_info[2]),\n",
    "                str(name),\n",
    "                str(df.iloc[index, 6]), # FPKM\n",
    "                str(bed_info[5])\n",
    "            ]))\n"
   ]
  },
  {
   "cell_type": "code",
   "execution_count": 15,
   "metadata": {},
   "outputs": [],
   "source": [
    "xlsx_to_bed(\"/home/ls/parshas/vscode/5465_processing/for_filter_by_fpkm/readthrough_filter_genecount_or_readthroughcount_or_geneFPKM_is0.xlsx\",\"/private/projects/kidney_rtt/tcga_5465_output_one_sample_running_before_downsample/preprocess_files/readthrough.bed\", \"/home/ls/parshas/vscode/5465_processing/for_filter_by_fpkm/readthrough_filtered.bed\")\n",
    "xlsx_to_bed(\"/home/ls/parshas/vscode/5465_processing/for_filter_by_fpkm/read_in_filter_genecount_or_readincount_or_geneFPKM_is0.xlsx\",\"/private/projects/kidney_rtt/tcga_5465_output_one_sample_running_before_downsample/preprocess_files/read_in.bed\", \"/home/ls/parshas/vscode/5465_processing/for_filter_by_fpkm/read_in_filtered.bed\")"
   ]
  },
  {
   "cell_type": "code",
   "execution_count": null,
   "metadata": {},
   "outputs": [],
   "source": []
  }
 ],
 "metadata": {
  "kernelspec": {
   "display_name": "python1",
   "language": "python",
   "name": "python3"
  },
  "language_info": {
   "codemirror_mode": {
    "name": "ipython",
    "version": 3
   },
   "file_extension": ".py",
   "mimetype": "text/x-python",
   "name": "python",
   "nbconvert_exporter": "python",
   "pygments_lexer": "ipython3",
   "version": "3.11.3"
  },
  "orig_nbformat": 4
 },
 "nbformat": 4,
 "nbformat_minor": 2
}

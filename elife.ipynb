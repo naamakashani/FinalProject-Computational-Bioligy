{
 "cells": [
  {
   "cell_type": "code",
   "execution_count": 8,
   "metadata": {},
   "outputs": [],
   "source": [
    "import subprocess\n",
    "import pandas as pd\n",
    "import shutil\n"
   ]
  },
  {
   "cell_type": "code",
   "execution_count": 12,
   "metadata": {},
   "outputs": [],
   "source": [
    "def run_bedtools_coverage(file1, file2, output_file): # flags : stranded\n",
    "    # Run coverageBed on the two inputs file\n",
    "    command = ['coverageBed', '-a', file1, '-b', file2,'-s']\n",
    "    with open(output_file, 'w') as file:\n",
    "        process = subprocess.Popen(command, stdout=file, stderr=subprocess.PIPE)\n",
    "        stdout, stderr = process.communicate()\n",
    "\n",
    "    if process.returncode != 0:\n",
    "        print(f\"Error running 'bettools coverage': {stderr.decode('utf-8')}\")\n",
    "    else:\n",
    "        print(f\"'bedtools coverage' executed successfully. Output saved to {output_file}.\")"
   ]
  },
  {
   "cell_type": "code",
   "execution_count": 7,
   "metadata": {},
   "outputs": [],
   "source": [
    "# create bed file for 4Kb from the end of the gene\n",
    "bed_file = \"/home/ls/parshas/sample_5465/elife5465_hg38.bed\"\n",
    "outputpath = \"/home/ls/parshas/sample_5465/elife5465_hg38_4kb.bed\"\n",
    "df = pd.read_csv(bed_file, sep='\\t', header=None)\n",
    "with open(outputpath, 'w') as bed_file:\n",
    "            # Iterate over each row of the dataframe\n",
    "            for index, row in df.iterrows():\n",
    "                bed_file.write('\\t'.join([\n",
    "                    str(df.iloc[index, 0]),\n",
    "                    str(int(df.iloc[index, 2])+ 1), #start = end + 1\n",
    "                    str(int(df.iloc[index, 2])+ 4000), #end = end + 4000\n",
    "                    str(df.iloc[index, 3]),\n",
    "                    str(df.iloc[index, 4]),\n",
    "                    str(df.iloc[index, 5]+'\\n')\n",
    "                ]))"
   ]
  },
  {
   "cell_type": "code",
   "execution_count": 14,
   "metadata": {},
   "outputs": [],
   "source": [
    "def run_bedtools_intersect(bed_file1, bed_file2, output_file): # flags : stranded, '-v' - Only report those entries in A that have no overlap in B\n",
    "    # Run intersectBed on the two inputs file\n",
    "    command = ['intersectBed', '-a', bed_file1, '-b', bed_file2,'-s', '-v']\n",
    "    with open(output_file, 'w') as file:\n",
    "        process = subprocess.Popen(command, stdout=file, stderr=subprocess.PIPE)\n",
    "        stdout, stderr = process.communicate()\n",
    "\n",
    "    if process.returncode != 0:\n",
    "        print(f\"Error running 'bettools intersect': {stderr.decode('utf-8')}\")\n",
    "    else:\n",
    "        print(f\"'bedtools intersect' executed successfully. Output saved to {output_file}.\")"
   ]
  },
  {
   "cell_type": "code",
   "execution_count": 11,
   "metadata": {},
   "outputs": [
    {
     "name": "stdout",
     "output_type": "stream",
     "text": [
      "'bedtools intersect' executed successfully. Output saved to /home/ls/parshas/sample_5465/elife5465_hg38_4000kb_no_overlap.bed.\n"
     ]
    }
   ],
   "source": [
    "elife_5465_file = \"/home/ls/parshas/sample_5465/elife5465_hg38_4kb.bed\"\n",
    "gtf_genes_file = \"/private/projects/kidney_rtt/gencode.v34.GRCh38.annotation.genes.bed\"\n",
    "run_bedtools_intersect(elife_5465_file, gtf_genes_file,\"/home/ls/parshas/sample_5465/elife5465_hg38_4kb_no_overlap.bed\" )"
   ]
  },
  {
   "cell_type": "code",
   "execution_count": 13,
   "metadata": {},
   "outputs": [
    {
     "name": "stdout",
     "output_type": "stream",
     "text": [
      "'bedtools coverage' executed successfully. Output saved to /home/ls/parshas/vscode/5465_processing/covarfe_elife_4000kb_downstream_across_bam_5465.txt.\n"
     ]
    }
   ],
   "source": [
    "elife_5465_file = \"/home/ls/parshas/sample_5465/elife5465_hg38_4kb_no_overlap.bed\"\n",
    "bam_file_5465 = \"/home/ls/parshas/tcgaSamples/d329e4f1-3c59-482e-b6ba-6edd490ce0c1/f6df6ae0-003e-4ba2-8a55-06734b4cbed3.rna_seq.genomic.gdc_realn.bam\"\n",
    "outputfile = \"/home/ls/parshas/vscode/5465_processing/covarge_elife_4kb_downstream_across_bam_5465.txt\"\n",
    "run_bedtools_coverage(elife_5465_file, bam_file_5465, outputfile)\n"
   ]
  },
  {
   "cell_type": "code",
   "execution_count": 16,
   "metadata": {},
   "outputs": [],
   "source": [
    "# create bed file for 4Kb from the end of the gene with 100b windows \n",
    "bed_file = \"/home/ls/parshas/sample_5465/elife5465_hg38_4kb_no_overlap.bed\"\n",
    "outputpath = \"/home/ls/parshas/sample_5465/elife5465_hg38_4kb_no_overlap_windows_of_100b.bed\"\n",
    "df = pd.read_csv(bed_file, sep='\\t', header=None)\n",
    "with open(outputpath, 'w') as bed_file:\n",
    "            # Iterate over each row of the dataframe\n",
    "            for index, row in df.iterrows():\n",
    "                for i in range(40):\n",
    "                    bed_file.write('\\t'.join([\n",
    "                    str(df.iloc[index, 0]),\n",
    "                    str(int(df.iloc[index, 1]) + (100 * i)), #start = end + 1 + 100 * windows number\n",
    "                    str(int(df.iloc[index, 1]) + 100 + (100 * i)), #end = end + 100 + 100 * windows number\n",
    "                    str(df.iloc[index, 3]),\n",
    "                    str(df.iloc[index, 4]),\n",
    "                    str(df.iloc[index, 5]+'\\n')\n",
    "                ]))\n",
    "                "
   ]
  },
  {
   "cell_type": "code",
   "execution_count": 17,
   "metadata": {},
   "outputs": [
    {
     "name": "stdout",
     "output_type": "stream",
     "text": [
      "'bedtools coverage' executed successfully. Output saved to /home/ls/parshas/vscode/5465_processing/covarge_elife_4000kb_downstream_window_of_100b_across_bam_5465.txt.\n"
     ]
    }
   ],
   "source": [
    "elife_5465_file = \"/home/ls/parshas/sample_5465/elife5465_hg38_4kb_no_overlap_windows_of_100b.bed\"\n",
    "bam_file_5465 = \"/home/ls/parshas/tcgaSamples/d329e4f1-3c59-482e-b6ba-6edd490ce0c1/f6df6ae0-003e-4ba2-8a55-06734b4cbed3.rna_seq.genomic.gdc_realn.bam\"\n",
    "outputfile = \"/home/ls/parshas/vscode/5465_processing/covarge_elife_4kb_downstream_window_of_100b_across_bam_5465.txt\"\n",
    "run_bedtools_coverage(elife_5465_file, bam_file_5465, outputfile)\n"
   ]
  }
 ],
 "metadata": {
  "kernelspec": {
   "display_name": "intersect",
   "language": "python",
   "name": "python3"
  },
  "language_info": {
   "codemirror_mode": {
    "name": "ipython",
    "version": 3
   },
   "file_extension": ".py",
   "mimetype": "text/x-python",
   "name": "python",
   "nbconvert_exporter": "python",
   "pygments_lexer": "ipython3",
   "version": "3.9.16"
  },
  "orig_nbformat": 4
 },
 "nbformat": 4,
 "nbformat_minor": 2
}

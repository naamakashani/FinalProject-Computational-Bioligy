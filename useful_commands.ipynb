{
 "cells": [
  {
   "cell_type": "code",
   "execution_count": null,
   "metadata": {},
   "outputs": [],
   "source": [
    "import pandas as pd\n",
    "import openpyxl\n",
    "\n"
   ]
  },
  {
   "cell_type": "code",
   "execution_count": null,
   "metadata": {},
   "outputs": [],
   "source": [
    "\n",
    "def convert_txt_to_excel(input_file_path, output_file_path):\n",
    "    # Read the tab-separated file into a DataFrame\n",
    "    df = pd.read_csv(input_file_path, sep='\\t')\n",
    "    \n",
    "    # Save the DataFrame to an Excel file\n",
    "    df.to_excel(output_file_path, index=False)"
   ]
  },
  {
   "cell_type": "code",
   "execution_count": null,
   "metadata": {},
   "outputs": [],
   "source": [
    "input_file_path = '/private/projects/kidney_rtt/tcga_5465_output_one_sample_running_before_downsample/dogs/all_dogs.fpkm.txt'\n",
    "output_file_path = '/home/ls/parshas/vscode/5464_processing/for_filter_by_fpkm/all_dogs.fpkm.xlsx'\n",
    "convert_txt_to_excel(input_file_path, output_file_path)"
   ]
  },
  {
   "cell_type": "code",
   "execution_count": null,
   "metadata": {},
   "outputs": [],
   "source": [
    "input_file_path = '/private/projects/kidney_rtt/tcga_5465_output_one_sample_running_before_downsample/readthrough/readthrough.txt'\n",
    "output_file_path = '/home/ls/parshas/vscode/5464_processing/for_filter_by_fpkm/readthrough.xlsx'\n",
    "convert_txt_to_excel(input_file_path, output_file_path)"
   ]
  },
  {
   "cell_type": "code",
   "execution_count": null,
   "metadata": {},
   "outputs": [],
   "source": [
    "input_file_path = '/private/projects/kidney_rtt/tcga_5465_output_one_sample_running_before_downsample/readthrough/read_in.txt'\n",
    "output_file_path = '/home/ls/parshas/vscode/5464_processing/for_filter_by_fpkm/read_in.xlsx'\n",
    "convert_txt_to_excel(input_file_path, output_file_path)"
   ]
  }
 ],
 "metadata": {
  "language_info": {
   "name": "python"
  },
  "orig_nbformat": 4
 },
 "nbformat": 4,
 "nbformat_minor": 2
}
